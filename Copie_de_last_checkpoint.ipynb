{
  "nbformat": 4,
  "nbformat_minor": 0,
  "metadata": {
    "colab": {
      "name": "Copie de last checkpoint.ipynb",
      "provenance": [],
      "collapsed_sections": []
    },
    "kernelspec": {
      "name": "python3",
      "display_name": "Python 3"
    }
  },
  "cells": [
    {
      "cell_type": "code",
      "metadata": {
        "id": "Q98ReRYr4yi9",
        "colab": {
          "base_uri": "https://localhost:8080/"
        },
        "outputId": "528499f9-773b-4ce4-d413-53e1ac134146"
      },
      "source": [
        "liste=[\"hello\", 5, True]\n",
        "[len(liste)]\n",
        "print(liste)"
      ],
      "execution_count": null,
      "outputs": [
        {
          "output_type": "stream",
          "text": [
            "['hello', 5, True]\n"
          ],
          "name": "stdout"
        }
      ]
    },
    {
      "cell_type": "code",
      "metadata": {
        "id": "XEq2jIiP5Mxk"
      },
      "source": [
        "import numpy as np"
      ],
      "execution_count": null,
      "outputs": []
    },
    {
      "cell_type": "markdown",
      "metadata": {
        "id": "YEPzaOipF-iw"
      },
      "source": [
        "# <center> Last chechpoint: **Let's rectify our errors**\n",
        "\n",
        "---\n",
        "\n"
      ]
    },
    {
      "cell_type": "code",
      "metadata": {
        "id": "I-cuQi245SoS"
      },
      "source": [
        "import pandas as pd"
      ],
      "execution_count": null,
      "outputs": []
    },
    {
      "cell_type": "code",
      "metadata": {
        "id": "3jgy2N5q5bJK",
        "colab": {
          "base_uri": "https://localhost:8080/"
        },
        "outputId": "863f8f56-74bf-4d7e-8f59-9fa14d5359bc"
      },
      "source": [
        "print (\"hello\")"
      ],
      "execution_count": null,
      "outputs": [
        {
          "output_type": "stream",
          "text": [
            "hello\n"
          ],
          "name": "stdout"
        }
      ]
    },
    {
      "cell_type": "code",
      "metadata": {
        "id": "iE246E8w5iLa",
        "colab": {
          "base_uri": "https://localhost:8080/"
        },
        "outputId": "72b5f99e-c8ae-4ba6-dddf-c2e50127bdd7"
      },
      "source": [
        "dic={True:\"hello\", 5:\"bye\", 'false':\"thank you\"}\n",
        "print(dic)"
      ],
      "execution_count": null,
      "outputs": [
        {
          "output_type": "stream",
          "text": [
            "{True: 'hello', 5: 'bye', 'false': 'thank you'}\n"
          ],
          "name": "stdout"
        }
      ]
    },
    {
      "cell_type": "code",
      "metadata": {
        "id": "WJCXf7mdFBTe",
        "colab": {
          "base_uri": "https://localhost:8080/"
        },
        "outputId": "b14b2983-3209-4124-9784-2ede72651f69"
      },
      "source": [
        "liste=[\"hello\", 5, True]\n",
        "for i in liste :\n",
        "  print(i)"
      ],
      "execution_count": null,
      "outputs": [
        {
          "output_type": "stream",
          "text": [
            "hello\n",
            "5\n",
            "True\n"
          ],
          "name": "stdout"
        }
      ]
    },
    {
      "cell_type": "code",
      "metadata": {
        "id": "-vBDa6u2FSyg",
        "colab": {
          "base_uri": "https://localhost:8080/"
        },
        "outputId": "8b274d71-c1d3-4784-925c-795b05fc5d86"
      },
      "source": [
        "it=iter([1,2,3])\n",
        "next(it)\n",
        "next(it)\n",
        "next(it)\n"
      ],
      "execution_count": null,
      "outputs": [
        {
          "output_type": "execute_result",
          "data": {
            "text/plain": [
              "3"
            ]
          },
          "metadata": {
            "tags": []
          },
          "execution_count": 22
        }
      ]
    },
    {
      "cell_type": "code",
      "metadata": {
        "id": "evUhcCbUFViZ",
        "colab": {
          "base_uri": "https://localhost:8080/"
        },
        "outputId": "2abae64f-fc43-4e79-8d7b-d6f3df421e9f"
      },
      "source": [
        "True + True"
      ],
      "execution_count": null,
      "outputs": [
        {
          "output_type": "execute_result",
          "data": {
            "text/plain": [
              "2"
            ]
          },
          "metadata": {
            "tags": []
          },
          "execution_count": 24
        }
      ]
    },
    {
      "cell_type": "code",
      "metadata": {
        "id": "qvMbCtDXFbIE",
        "colab": {
          "base_uri": "https://localhost:8080/"
        },
        "outputId": "c682daba-83e6-4b4f-d133-411f930b3c22"
      },
      "source": [
        "1+1"
      ],
      "execution_count": null,
      "outputs": [
        {
          "output_type": "execute_result",
          "data": {
            "text/plain": [
              "2"
            ]
          },
          "metadata": {
            "tags": []
          },
          "execution_count": 25
        }
      ]
    },
    {
      "cell_type": "code",
      "metadata": {
        "id": "Ypa7y4CeFcym",
        "colab": {
          "base_uri": "https://localhost:8080/"
        },
        "outputId": "233f8cc1-7895-4a09-b1c0-48ffc8f52e0c"
      },
      "source": [
        "int()"
      ],
      "execution_count": null,
      "outputs": [
        {
          "output_type": "execute_result",
          "data": {
            "text/plain": [
              "0"
            ]
          },
          "metadata": {
            "tags": []
          },
          "execution_count": 2
        }
      ]
    },
    {
      "cell_type": "code",
      "metadata": {
        "id": "0HaMnEFPFqHE"
      },
      "source": [
        "x=69/1"
      ],
      "execution_count": null,
      "outputs": []
    }
  ]
}